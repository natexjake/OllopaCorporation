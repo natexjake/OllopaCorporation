{
  "nbformat": 4,
  "nbformat_minor": 0,
  "metadata": {
    "colab": {
      "provenance": [],
      "authorship_tag": "ABX9TyMjosBrL3HhZUDXbdTjZEJz",
      "include_colab_link": true
    },
    "kernelspec": {
      "name": "python3",
      "display_name": "Python 3"
    },
    "language_info": {
      "name": "python"
    }
  },
  "cells": [
    {
      "cell_type": "markdown",
      "metadata": {
        "id": "view-in-github",
        "colab_type": "text"
      },
      "source": [
        "<a href=\"https://colab.research.google.com/github/natexjake/OllopaCorporation/blob/main/Features/Face_Alignment_for_Facial_Recognition_From_Scratch.ipynb\" target=\"_parent\"><img src=\"https://colab.research.google.com/assets/colab-badge.svg\" alt=\"Open In Colab\"/></a>"
      ]
    },
    {
      "cell_type": "code",
      "source": [
        "!pip install retina-face"
      ],
      "metadata": {
        "id": "ERP9oMlP_bzq"
      },
      "execution_count": null,
      "outputs": []
    },
    {
      "cell_type": "code",
      "source": [
        "from retinaface import RetinaFace\n",
        "from google.colab.patches import cv2_imshow\n",
        "from google.colab import files\n",
        "import math\n",
        "import numpy as np\n",
        "import cv2\n",
        "from PIL import Image\n",
        "import matplotlib.pyplot as plt"
      ],
      "metadata": {
        "id": "aP4p4aJ7_kBd"
      },
      "execution_count": 7,
      "outputs": []
    },
    {
      "cell_type": "code",
      "execution_count": null,
      "metadata": {
        "id": "xyqPDm0q9d8M"
      },
      "outputs": [],
      "source": [
        "def browse_photos():\n",
        "\n",
        "    #Automatic\n",
        "    uploaded = files.upload()\n",
        "\n",
        "    # Get the first uploaded image's path\n",
        "    img_name = list(uploaded.keys())[0]\n",
        "    img_path = f\"/content/{img_name}\"\n",
        "\n",
        "    img = cv2.imread(img_path)\n",
        "\n",
        "    # Convert BGR to RGB correctly\n",
        "    img_rgb = cv2.cvtColor(img, cv2.COLOR_BGR2RGB)\n",
        "\n",
        "    resp = RetinaFace.detect_faces(img_path=img_path)\n",
        "    x1, y1 = resp[\"face_1\"][\"landmarks\"][\"right_eye\"]\n",
        "    x2, y2 = resp[\"face_1\"][\"landmarks\"][\"left_eye\"]\n",
        "\n",
        "    a = abs(y1 - y2)\n",
        "    b = abs(x2 - x1)\n",
        "    c = math.sqrt(a * a + b * b)\n",
        "    cos_alpha = (b * b + c * c - a * a) / (2 * b * c)\n",
        "    alpha = np.arccos(cos_alpha)  # radius\n",
        "    alpha = (alpha * 180) / math.pi\n",
        "    aligned_img = Image.fromarray(img_rgb)\n",
        "    aligned_img = np.array(aligned_img.rotate(alpha))\n",
        "\n",
        "    # Convert BGR to RGB correctly\n",
        "    aligned_img_rgb = cv2.cvtColor(aligned_img, cv2.COLOR_BGR2RGB)\n",
        "\n",
        "    # Display the aligned image\n",
        "    cv2_imshow(aligned_img_rgb)\n",
        "\n",
        "if __name__ == \"__main__\":\n",
        "    browse_photos()"
      ]
    },
    {
      "cell_type": "code",
      "source": [],
      "metadata": {
        "id": "a5hn5vtp_ReC"
      },
      "execution_count": 3,
      "outputs": []
    }
  ]
}