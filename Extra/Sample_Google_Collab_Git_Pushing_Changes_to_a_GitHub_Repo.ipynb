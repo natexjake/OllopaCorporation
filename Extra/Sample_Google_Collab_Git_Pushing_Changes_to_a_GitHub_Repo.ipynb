{
  "nbformat": 4,
  "nbformat_minor": 0,
  "metadata": {
    "colab": {
      "provenance": [],
      "include_colab_link": true
    },
    "kernelspec": {
      "name": "python3",
      "display_name": "Python 3"
    },
    "language_info": {
      "name": "python"
    }
  },
  "cells": [
    {
      "cell_type": "markdown",
      "metadata": {
        "id": "view-in-github",
        "colab_type": "text"
      },
      "source": [
        "<a href=\"https://colab.research.google.com/github/natexjake/OllopaCorporation/blob/main/Extra/Sample_Google_Collab_Git_Pushing_Changes_to_a_GitHub_Repo.ipynb\" target=\"_parent\"><img src=\"https://colab.research.google.com/assets/colab-badge.svg\" alt=\"Open In Colab\"/></a>"
      ]
    },
    {
      "cell_type": "code",
      "metadata": {
        "id": "tbVE8h46Jt4o"
      },
      "source": [
        "!git config --global user.name \"your_username\"\n",
        "!git config --global user.email \"your_email@yahoo.com\"\n",
        "!git config --global user.password \"your_password\""
      ],
      "execution_count": null,
      "outputs": []
    },
    {
      "cell_type": "code",
      "metadata": {
        "id": "BMZQXiMr6l0Z"
      },
      "source": [
        "token = 'your_token'\n",
        "username = 'your_username'\n",
        "repo = 'OllopaCorporation'"
      ],
      "execution_count": null,
      "outputs": []
    },
    {
      "cell_type": "code",
      "metadata": {
        "id": "QJr0hdqlzch7"
      },
      "source": [
        "!git clone https://{token}@github.com/{username}/{repo}"
      ],
      "execution_count": null,
      "outputs": []
    },
    {
      "cell_type": "code",
      "metadata": {
        "id": "1HJ-OfLv6_0y"
      },
      "source": [
        "%cd {repo}"
      ],
      "execution_count": null,
      "outputs": []
    },
    {
      "cell_type": "code",
      "metadata": {
        "id": "h6mrnrbP-3vW"
      },
      "source": [
        "%ls"
      ],
      "execution_count": null,
      "outputs": []
    },
    {
      "cell_type": "code",
      "metadata": {
        "id": "Hb6fa_C5EqY5"
      },
      "source": [
        "!mv fileloc1 fileloc2"
      ],
      "execution_count": null,
      "outputs": []
    },
    {
      "cell_type": "code",
      "metadata": {
        "id": "N3EwkTkt7JzG"
      },
      "source": [
        "!git status"
      ],
      "execution_count": null,
      "outputs": []
    },
    {
      "cell_type": "code",
      "metadata": {
        "id": "0ExrOLZBGLbA"
      },
      "source": [
        "!git add --all"
      ],
      "execution_count": null,
      "outputs": []
    },
    {
      "cell_type": "code",
      "metadata": {
        "id": "99adoQGx2eny"
      },
      "source": [
        "!git commit -a -m \"Sample Message\""
      ],
      "execution_count": null,
      "outputs": []
    },
    {
      "cell_type": "code",
      "metadata": {
        "id": "zIKEeN0RFtb3"
      },
      "source": [
        "!git remote -v"
      ],
      "execution_count": null,
      "outputs": []
    },
    {
      "cell_type": "code",
      "metadata": {
        "id": "IePYQt1lG--X"
      },
      "source": [
        "!git push origin master"
      ],
      "execution_count": null,
      "outputs": []
    }
  ]
}