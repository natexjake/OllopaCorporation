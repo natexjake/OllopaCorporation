{
  "nbformat": 4,
  "nbformat_minor": 0,
  "metadata": {
    "colab": {
      "provenance": [],
      "authorship_tag": "ABX9TyPrro2Y7Dm+pG6NVo7TTQV1",
      "include_colab_link": true
    },
    "kernelspec": {
      "name": "python3",
      "display_name": "Python 3"
    },
    "language_info": {
      "name": "python"
    }
  },
  "cells": [
    {
      "cell_type": "markdown",
      "metadata": {
        "id": "view-in-github",
        "colab_type": "text"
      },
      "source": [
        "<a href=\"https://colab.research.google.com/github/natexjake/OllopaCorporation/blob/main/Install_libraries_drive.ipynb\" target=\"_parent\"><img src=\"https://colab.research.google.com/assets/colab-badge.svg\" alt=\"Open In Colab\"/></a>"
      ]
    },
    {
      "cell_type": "code",
      "execution_count": null,
      "metadata": {
        "id": "TOQQ5Fh4_hoi"
      },
      "outputs": [],
      "source": [
        "!pip install numpy==1.23.3"
      ]
    },
    {
      "cell_type": "code",
      "source": [
        "!pip install tensorflow==2.13.0rc2"
      ],
      "metadata": {
        "id": "0FA0UQMc_zrM"
      },
      "execution_count": null,
      "outputs": []
    },
    {
      "cell_type": "code",
      "source": [
        "from google.colab import drive"
      ],
      "metadata": {
        "id": "ki6Y7VR__7Yy"
      },
      "execution_count": null,
      "outputs": []
    },
    {
      "cell_type": "code",
      "source": [
        "drive.mount('/content/drive')"
      ],
      "metadata": {
        "id": "fr6-WRAN_8rh"
      },
      "execution_count": null,
      "outputs": []
    },
    {
      "cell_type": "code",
      "source": [
        "!mkdir '/content/drive/My Drive/Packages'"
      ],
      "metadata": {
        "id": "6JR5uS3y_8sD"
      },
      "execution_count": null,
      "outputs": []
    },
    {
      "cell_type": "code",
      "source": [
        "package_path = '/content/packages'\n",
        "os.symlink('/content/drive/My Drive/Packages', package_path)\n",
        "sys.path.insert(0,package_path)"
      ],
      "metadata": {
        "id": "BoaNI07PAHEQ"
      },
      "execution_count": null,
      "outputs": []
    },
    {
      "cell_type": "code",
      "source": [
        "!pip install mediapipe --target=$package_path mediapipe"
      ],
      "metadata": {
        "id": "nHPKNSvwAHE7"
      },
      "execution_count": null,
      "outputs": []
    }
  ]
}